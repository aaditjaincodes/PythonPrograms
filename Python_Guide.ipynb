{
  "nbformat": 4,
  "nbformat_minor": 0,
  "metadata": {
    "colab": {
      "provenance": []
    },
    "kernelspec": {
      "name": "python3",
      "display_name": "Python 3"
    },
    "language_info": {
      "name": "python"
    }
  },
  "cells": [
    {
      "cell_type": "markdown",
      "source": [
        "# **Python- Hands-On Guide : Aadit Jain**"
      ],
      "metadata": {
        "id": "lDZ3HZ1OBt1y"
      }
    },
    {
      "cell_type": "markdown",
      "source": [
        "### **VARIABLES - Exercise**\n",
        "\n",
        "**Easy**\n",
        "\n",
        "Declare a variable without breaking any of the rules\n",
        "\n",
        "**Medium**\n",
        "\n",
        "Declare this variable “break = 50”. Which rule does it break ?\n",
        "\n",
        "**Hard**\n",
        "\n",
        "Make changes to these variables so that they no longer break the rules to\n",
        "define a variable\n",
        "1. phone$number = 12345\n",
        "2. 123Name = *“Benny”*"
      ],
      "metadata": {
        "id": "ys5imeNkBsBe"
      }
    },
    {
      "cell_type": "code",
      "execution_count": null,
      "metadata": {
        "id": "4GSFiuK_BqSP"
      },
      "outputs": [],
      "source": [
        "#break=50\n",
        "# You shouldn't use reserve keywords\n",
        "#phone$number = 12345 #Wrong Variable Declaration. Don't include $ sign\n",
        "phoneNumber=12345\n",
        "#123Name='Benny' # Wrong Variable declaration. Don't start with numbers.\n",
        "Name='Benny'"
      ]
    },
    {
      "cell_type": "markdown",
      "source": [
        "### **NUMBERS - Exercise**\n",
        "**Easy**\n",
        "\n",
        "Write a program to assign the value 25 to an integer variable\n",
        "\n",
        "**Medium**\n",
        "\n",
        "Write a program to declare a floating value 25.77 and convert it to integer and\n",
        "print the result"
      ],
      "metadata": {
        "id": "pP5Cr_PWDGIF"
      }
    },
    {
      "cell_type": "code",
      "source": [
        "a=25\n",
        "f=25.77\n",
        "convert_to_int=int(f)\n",
        "print(convert_to_int)"
      ],
      "metadata": {
        "colab": {
          "base_uri": "https://localhost:8080/"
        },
        "id": "NlsI2sNXDsK5",
        "outputId": "e7a29c77-0f21-426a-b5c6-2f70f9d11a98"
      },
      "execution_count": null,
      "outputs": [
        {
          "output_type": "stream",
          "name": "stdout",
          "text": [
            "25\n"
          ]
        }
      ]
    },
    {
      "cell_type": "markdown",
      "source": [
        "### **OPERATORS - Exercise**\n",
        "**Easy**\n",
        "\n",
        "Write a program to add two numbers\n",
        "\n",
        "**Medium**\n",
        "\n",
        "Solve this equation manually.\n",
        "2 + 3 * 4\n",
        "Now write a program to solve this.\n",
        "Did you get the same answer?\n",
        "\n",
        "**Hard**\n",
        "\n",
        "Use a logical operator in between two comparison operators and return the\n",
        "value as true"
      ],
      "metadata": {
        "id": "aO_gVdaxEMhA"
      }
    },
    {
      "cell_type": "code",
      "source": [
        "print(5+7)\n",
        "\n",
        "print(2+3*4)\n",
        "\n",
        "print(True==1)\n",
        "print(False==0)\n",
        "print(20>19)"
      ],
      "metadata": {
        "colab": {
          "base_uri": "https://localhost:8080/"
        },
        "id": "ewdlNge9EgfZ",
        "outputId": "854a1be9-8572-4987-f6f5-c156b7258008"
      },
      "execution_count": null,
      "outputs": [
        {
          "output_type": "stream",
          "name": "stdout",
          "text": [
            "12\n",
            "14\n",
            "True\n",
            "True\n",
            "True\n"
          ]
        }
      ]
    },
    {
      "cell_type": "markdown",
      "source": [
        "### **STRINGS - Exercise**\n",
        "**Easy**\n",
        "\n",
        "Write a program to create a string “Python programming is easy”\n",
        "\n",
        "**Medium**\n",
        "\n",
        "Now slice the first string and store “easy” in the second string\n",
        "\n",
        "**Hard**\n",
        "\n",
        "Replace “easy” in the second string with “ and powerful” and concatenate both\n",
        "the strings"
      ],
      "metadata": {
        "id": "tjY0sD4tFJY4"
      }
    },
    {
      "cell_type": "code",
      "source": [
        "python_programming='Python programming is easy'\n",
        "easy_hai=python_programming[-4:]\n",
        "replace_hai=easy_hai.replace('easy',' and powerful')\n",
        "print(easy_hai+replace_hai)"
      ],
      "metadata": {
        "colab": {
          "base_uri": "https://localhost:8080/"
        },
        "id": "7fiRSvFoHcsE",
        "outputId": "2290975e-1302-4bb9-fd28-633c13f6f845"
      },
      "execution_count": null,
      "outputs": [
        {
          "output_type": "stream",
          "name": "stdout",
          "text": [
            "easy and powerful\n"
          ]
        }
      ]
    },
    {
      "cell_type": "markdown",
      "source": [
        "### **LIST - Exercise**\n",
        "\n",
        "**Easy**\n",
        "\n",
        "Write a program to create a list of 5 elements\n",
        "\n",
        "**Medium**\n",
        "\n",
        "Update the value at 3rd element of the list\n",
        "\n",
        "**Hard**\n",
        "\n",
        "Create another list of 3 elements. Now create a final result as a concatenation\n",
        "of the first two lists"
      ],
      "metadata": {
        "id": "tXTh01YTIH7r"
      }
    },
    {
      "cell_type": "code",
      "source": [
        "lst=['Aadit','Jain','Python','Infosys','TCS']\n",
        "\n",
        "lst[2]=27\n",
        "print(lst)\n",
        "lst_new=['Python','Java','C++']\n",
        "\n",
        "updated_lst=lst+lst_new\n",
        "print(updated_lst)\n"
      ],
      "metadata": {
        "colab": {
          "base_uri": "https://localhost:8080/"
        },
        "id": "U1nT3lynGtvZ",
        "outputId": "7af1ce1b-115b-43ca-c23c-a0f6b24763b6"
      },
      "execution_count": null,
      "outputs": [
        {
          "output_type": "stream",
          "name": "stdout",
          "text": [
            "['Aadit', 'Jain', 27, 'Infosys', 'TCS']\n",
            "['Aadit', 'Jain', 27, 'Infosys', 'TCS', 'Python', 'Java', 'C++']\n"
          ]
        }
      ]
    },
    {
      "cell_type": "markdown",
      "source": [
        "### **TUPLE - Exercise**\n",
        "\n",
        "**Easy**\n",
        "\n",
        "Write a program to create a tuple of 4 elements\n",
        "\n",
        "**Medium**\n",
        "\n",
        "Convert this tuple into a list\n",
        "\n",
        "**Hard ***\n",
        "\n",
        "Now delete the first element in this list and convert it back to tuple"
      ],
      "metadata": {
        "id": "IbQn1N2JHYh9"
      }
    },
    {
      "cell_type": "code",
      "source": [
        "tup=('Delhi','Noida','Chandigarh','Mysore')\n",
        "list1=list(tup)\n",
        "print(list1)\n",
        "list1.pop(0)\n",
        "updated_tup=tuple(list1)\n",
        "print(updated_tup)"
      ],
      "metadata": {
        "colab": {
          "base_uri": "https://localhost:8080/"
        },
        "id": "ZMfrwk0NJdku",
        "outputId": "dca16923-54d9-404a-a6f8-30113b78ff91"
      },
      "execution_count": null,
      "outputs": [
        {
          "output_type": "stream",
          "name": "stdout",
          "text": [
            "['Delhi', 'Noida', 'Chandigarh', 'Mysore']\n",
            "('Noida', 'Chandigarh', 'Mysore')\n"
          ]
        }
      ]
    },
    {
      "cell_type": "markdown",
      "source": [
        "### **DICTIONARY - Exercise**\n",
        "\n",
        "**Easy**\n",
        "\n",
        "Write a program to create a dictionary with 5 key-value pairs\n",
        "\n",
        "**Medium**\n",
        "\n",
        "Update the value of a key\n",
        "\n",
        "**Hard**\n",
        "\n",
        "Copy this dictionary to another dictionary and clear the first dictionary"
      ],
      "metadata": {
        "id": "uRkaVVJgKaoF"
      }
    },
    {
      "cell_type": "code",
      "source": [
        "dict1={'First name':'Aadit','Last name':'Jain','Age':27,'Occupation':'IT Professional','Skill':'Python'}\n",
        "print(dict1)\n",
        "dict1['Skill']='Machine Learning'\n",
        "print(dict1)\n",
        "new_dict=dict1.copy()\n",
        "dict1.clear()\n",
        "print(dict1)\n",
        "print(new_dict)"
      ],
      "metadata": {
        "colab": {
          "base_uri": "https://localhost:8080/"
        },
        "id": "lMFR_hSZLNYM",
        "outputId": "5b7350cb-6ecb-42cb-ff4b-7b334eac82ad"
      },
      "execution_count": null,
      "outputs": [
        {
          "output_type": "stream",
          "name": "stdout",
          "text": [
            "{'First name': 'Aadit', 'Last name': 'Jain', 'Age': 27, 'Occupation': 'IT Professional', 'Skill': 'Python'}\n",
            "{'First name': 'Aadit', 'Last name': 'Jain', 'Age': 27, 'Occupation': 'IT Professional', 'Skill': 'Machine Learning'}\n",
            "{}\n",
            "{'First name': 'Aadit', 'Last name': 'Jain', 'Age': 27, 'Occupation': 'IT Professional', 'Skill': 'Machine Learning'}\n"
          ]
        }
      ]
    },
    {
      "cell_type": "markdown",
      "source": [
        "### **CONDITIONALS - Exercise**\n",
        "\n",
        "**Easy**\n",
        "\n",
        "Write a program to check if a number is less than 10\n",
        "\n",
        "**Medium**\n",
        "\n",
        "Write a program to check if a given number is odd or even\n",
        "\n",
        "**Hard**\n",
        "\n",
        "Write a program to check if a number is divisible by both 10 as well as 50. If it is\n",
        "divisible by 30 as well, print “This number is divisible by 10, 50 and 30”. If not, print\n",
        "“This number divisible by 10 and 50 but not 30”"
      ],
      "metadata": {
        "id": "8TWpEV_02t6A"
      }
    },
    {
      "cell_type": "code",
      "source": [
        "number=int(input('Enter any number: '))\n",
        "if number<10:\n",
        "  print('The entered number is less than 10.')\n",
        "\n",
        "if number%2==0:\n",
        "  print('The entered number is even.')\n",
        "else:\n",
        "  print('The entered number is odd.')\n",
        "\n",
        "if number%10==0 and number%50==0:\n",
        "  if number%30==0:\n",
        "    print('This number is divisible by 10, 50 and 30.')\n",
        "  else:\n",
        "    print('This number divisible by 10 and 50 but not 30.')"
      ],
      "metadata": {
        "colab": {
          "base_uri": "https://localhost:8080/"
        },
        "id": "SdrcdCdA2-4W",
        "outputId": "0e1f5ad5-ee8a-48c6-e99b-2e5dc2bb5208"
      },
      "execution_count": null,
      "outputs": [
        {
          "output_type": "stream",
          "name": "stdout",
          "text": [
            "Enter any number: 500\n",
            "The entered number is even.\n",
            "This number divisible by 10 and 50 but not 30.\n"
          ]
        }
      ]
    },
    {
      "cell_type": "markdown",
      "source": [
        "### **LOOPS - Exercise**\n",
        "\n",
        "**Easy**\n",
        "\n",
        "Write a program to print numbers from 1 to 10\n",
        "\n",
        "**Medium**\n",
        "\n",
        "Write a program to print the sum of odd numbers from 1 to 10\n",
        "\n",
        "**Hard**\n",
        "\n",
        "Write a program to check if a given number is prime or not"
      ],
      "metadata": {
        "id": "xLqFkAQ734O1"
      }
    },
    {
      "cell_type": "code",
      "source": [
        "for i in range(1,11):\n",
        "  print(i,end=' ')\n"
      ],
      "metadata": {
        "colab": {
          "base_uri": "https://localhost:8080/"
        },
        "id": "OIZ2bhns6Cfn",
        "outputId": "0c3d2916-515f-421c-cacb-8ba1d78d6c6d"
      },
      "execution_count": null,
      "outputs": [
        {
          "output_type": "stream",
          "name": "stdout",
          "text": [
            "1 2 3 4 5 6 7 8 9 10 "
          ]
        }
      ]
    },
    {
      "cell_type": "code",
      "source": [
        "oddsum=0\n",
        "for i in range(1,11):\n",
        "  if i%2!=0:\n",
        "    oddsum+=i\n",
        "print('The Sum of all Odd numbers from 1 to 10 is',oddsum)"
      ],
      "metadata": {
        "colab": {
          "base_uri": "https://localhost:8080/"
        },
        "id": "p7UlvBG48fj9",
        "outputId": "cef23989-7b67-4cee-9b3c-e143d34ddd25"
      },
      "execution_count": null,
      "outputs": [
        {
          "output_type": "stream",
          "name": "stdout",
          "text": [
            "The Sum of all Odd numbers from 1 to 10 is 25\n"
          ]
        }
      ]
    },
    {
      "cell_type": "code",
      "source": [
        "number=int(input('Enter any no.: '))\n",
        "if number>1:\n",
        "  for i in range(2,number):\n",
        "    if number%i==0:\n",
        "      print('The entered number is not prime. It is composite.')\n",
        "      break\n",
        "  else:\n",
        "    print('The entered number is a prime number.')"
      ],
      "metadata": {
        "colab": {
          "base_uri": "https://localhost:8080/"
        },
        "id": "V8l7uAhQ8fms",
        "outputId": "e412998e-cc59-4034-cbd6-644d035a9f89"
      },
      "execution_count": null,
      "outputs": [
        {
          "output_type": "stream",
          "name": "stdout",
          "text": [
            "Enter any no.: 45\n",
            "The entered number is not prime. It is composite.\n"
          ]
        }
      ]
    },
    {
      "cell_type": "markdown",
      "source": [
        "### **FUNCTIONS - Exercise**\n",
        "\n",
        "**Easy**\n",
        "\n",
        "Write a function to print “Hello, World!”\n",
        "\n",
        "**Medium**\n",
        "\n",
        "Write a function that accepts two parameters and returns their sum\n",
        "\n",
        "**Hard**\n",
        "\n",
        "Write a function that accepts 3 sides of a triangle and returns the type of the\n",
        "triangle\n",
        "** Additional info:\n",
        "Types of triangle -\n",
        " 1. Equilateral triangle -> All the 3 sides are equal (Ex: 10, 10, 10)\n",
        " 2. Isosceles triangle -> 2 sides are equal (Ex: 10, 10, 20)\n",
        " 3. Scalene triangle -> No sides are equal (Ex: 10, 20, 30)"
      ],
      "metadata": {
        "id": "QqMMz06rCTzr"
      }
    },
    {
      "cell_type": "code",
      "source": [
        "print('Hello, World!')\n",
        "\n",
        "def sum(a,b):\n",
        "  return a+b\n",
        "\n",
        "def triangle(a,b,c):\n",
        "  if a==b and b==c:\n",
        "    return \"All the 3 sides are equal\"\n",
        "  elif a==b or a==c or b==c:\n",
        "    return \"2 sides are equal\"\n",
        "  else:\n",
        "    return \"No sides are equal\""
      ],
      "metadata": {
        "colab": {
          "base_uri": "https://localhost:8080/"
        },
        "id": "vr8xeQOmCfHb",
        "outputId": "3054977a-8323-45f9-e713-70ff69b95481"
      },
      "execution_count": null,
      "outputs": [
        {
          "output_type": "stream",
          "name": "stdout",
          "text": [
            "Hello, World!\n"
          ]
        }
      ]
    },
    {
      "cell_type": "code",
      "source": [
        "print(triangle(10,10,10))"
      ],
      "metadata": {
        "colab": {
          "base_uri": "https://localhost:8080/"
        },
        "id": "kEIhVxdsDO65",
        "outputId": "93e1d7b8-af74-47ce-cfbb-8ad29bedd53a"
      },
      "execution_count": null,
      "outputs": [
        {
          "output_type": "stream",
          "name": "stdout",
          "text": [
            "All the 3 sides are equal\n"
          ]
        }
      ]
    },
    {
      "cell_type": "code",
      "source": [
        "print(triangle(10,10,20))"
      ],
      "metadata": {
        "colab": {
          "base_uri": "https://localhost:8080/"
        },
        "id": "6RDtDS8sDVzp",
        "outputId": "d280de7c-1d10-4e64-f564-09f8837fe9e0"
      },
      "execution_count": null,
      "outputs": [
        {
          "output_type": "stream",
          "name": "stdout",
          "text": [
            "2 sides are equal\n"
          ]
        }
      ]
    },
    {
      "cell_type": "code",
      "source": [
        "print(triangle(10,20,30))"
      ],
      "metadata": {
        "colab": {
          "base_uri": "https://localhost:8080/"
        },
        "id": "tU9QDLFUDVlZ",
        "outputId": "9964eb3b-6c77-4fa4-a87e-744393fd9f6a"
      },
      "execution_count": null,
      "outputs": [
        {
          "output_type": "stream",
          "name": "stdout",
          "text": [
            "No sides are equal\n"
          ]
        }
      ]
    },
    {
      "cell_type": "code",
      "source": [
        "# Final Project\n",
        "\n",
        "students={'Aadit':1000,'Rashi':999,'Kavita':990,'Sandy':550,'Fatima':800,'Shreya':407}\n",
        "\n",
        "for i,j in students.items():\n",
        "  print(i,'scored',j,'marks in total.')"
      ],
      "metadata": {
        "colab": {
          "base_uri": "https://localhost:8080/"
        },
        "id": "Y6gBBV5lF6rs",
        "outputId": "c30f0dab-c23e-4ad1-f126-14854281cd5a"
      },
      "execution_count": null,
      "outputs": [
        {
          "output_type": "stream",
          "name": "stdout",
          "text": [
            "Aadit scored 1000 marks in total.\n",
            "Rashi scored 999 marks in total.\n",
            "Kavita scored 990 marks in total.\n",
            "Sandy scored 550 marks in total.\n",
            "Fatima scored 800 marks in total.\n",
            "Shreya scored 407 marks in total.\n"
          ]
        }
      ]
    },
    {
      "cell_type": "code",
      "source": [
        "students_marks_list=sorted(list(students.values()))\n",
        "\n",
        "for i ,j in students.items():\n",
        "  if j==students_marks_list[-1]:\n",
        "    print(i,'secured a cash reward of $500')\n",
        "  elif j==students_marks_list[-2]:\n",
        "    print(i,'secured a cash reward of $300')\n",
        "  elif j==students_marks_list[-3]:\n",
        "    print(i,'secured a cash reward of $100')\n",
        "\n",
        "for i ,j in students.items():\n",
        "  if j>950:\n",
        "    print(i,'scored greater than 950 marks. Congratulations! Really Appreciate!')\n"
      ],
      "metadata": {
        "colab": {
          "base_uri": "https://localhost:8080/"
        },
        "id": "lMkmJMe9GfMK",
        "outputId": "0b09811b-0a11-41cd-91f0-dbb457b4c90e"
      },
      "execution_count": null,
      "outputs": [
        {
          "output_type": "stream",
          "name": "stdout",
          "text": [
            "Aadit secured a cash reward of $500\n",
            "Rashi secured a cash reward of $300\n",
            "Kavita secured a cash reward of $100\n",
            "Aadit scored greater than 950 marks. Congratulations! Really Appreciate!\n",
            "Rashi scored greater than 950 marks. Congratulations! Really Appreciate!\n",
            "Kavita scored greater than 950 marks. Congratulations! Really Appreciate!\n"
          ]
        }
      ]
    }
  ]
}